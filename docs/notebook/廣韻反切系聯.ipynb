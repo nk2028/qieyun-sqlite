{
 "cells": [
  {
   "cell_type": "markdown",
   "metadata": {},
   "source": [
    "# 廣韻反切系聯"
   ]
  },
  {
   "cell_type": "code",
   "execution_count": 1,
   "metadata": {},
   "outputs": [],
   "source": [
    "import pandas"
   ]
  },
  {
   "cell_type": "code",
   "execution_count": 2,
   "metadata": {},
   "outputs": [],
   "source": [
    "import numpy as np"
   ]
  },
  {
   "cell_type": "code",
   "execution_count": 3,
   "metadata": {},
   "outputs": [],
   "source": [
    "import matplotlib.pyplot as plt"
   ]
  },
  {
   "cell_type": "code",
   "execution_count": 4,
   "metadata": {},
   "outputs": [],
   "source": [
    "import networkx as nx"
   ]
  },
  {
   "cell_type": "code",
   "execution_count": 5,
   "metadata": {},
   "outputs": [],
   "source": [
    "import sqlite3"
   ]
  },
  {
   "cell_type": "code",
   "execution_count": 6,
   "metadata": {},
   "outputs": [],
   "source": [
    "conn = sqlite3.connect('../data.sqlite3')"
   ]
  },
  {
   "cell_type": "code",
   "execution_count": 7,
   "metadata": {},
   "outputs": [],
   "source": [
    "cur = conn.cursor()"
   ]
  },
  {
   "cell_type": "markdown",
   "metadata": {},
   "source": [
    "## 反切上字"
   ]
  },
  {
   "cell_type": "code",
   "execution_count": 8,
   "metadata": {},
   "outputs": [],
   "source": [
    "G = nx.Graph()"
   ]
  },
  {
   "cell_type": "code",
   "execution_count": 9,
   "metadata": {},
   "outputs": [],
   "source": [
    "G.add_edges_from(cur.execute('''SELECT DISTINCT upper_chars.upper_char, upper_chars_of_upper_chars.upper_char\n",
    "FROM full_guangyun AS upper_chars\n",
    "INNER JOIN full_guangyun AS upper_chars_of_upper_chars\n",
    "ON upper_chars.upper_char = upper_chars_of_upper_chars.name\n",
    "WHERE upper_chars.upper_char <> upper_chars_of_upper_chars.upper_char;'''))"
   ]
  },
  {
   "cell_type": "code",
   "execution_count": 10,
   "metadata": {},
   "outputs": [
    {
     "name": "stdout",
     "output_type": "stream",
     "text": [
      "德多得\n",
      "時湯余煑識陀鄒食須堂珍當試除卓速祖簪墜羊池遵遟始匠矢慈直恥通臣成癡即悉胥將商殊寺褚釋吐視敕斯翼以阻先兹實漸場情張唐豬思疾傷諸特職土桑詳氏仄楮支辝同賞丈𩛠植夕資莊中章醉台詩託辛陟都徵丑舒竹子乗夷冬司爭辭脂甞息正徒秦神知之相蘇治素殖抽雖度承營悅市施追止杜隨馳側借征柱宅十則似移旨臧猪書持占自寔祥私田佇式常他與作徐天寫弋署是旬餘失蜀丁\n",
      "鷖紆羲乞委去具強羌臼况愛央狂虚俱牀曁伊挹鶵哀求墟休驅吉詰衢安弃九丘士握崇窺興鋤憶況依雛仕俟紀乙崱傾烏鉏跪袪於綺巨査區衣烟香謁一憂居豈助規其曲几朽渠許起喜欽舉卿\n",
      "儒如魚語疑危兒穠牛俄吾五擬耳宜遇尼汝玉女拏而人虞愚仍研\n",
      "洧雲永爲羽有于薳雨韋云王榮筠\n",
      "母模莫慕摸矛謨\n",
      "白皮弼房父卑方鄙蒲府附彼兵陂平便浮縛分薄毗防捕筆扶符必甫部婢傍馮并畀步封裴\n",
      "芳披撫丕拂敷峯孚普滂譬妃匹\n",
      "處尺充叱赤姝昌\n",
      "縷力呂里離魯林郎練連良\n",
      "乖公客過兼康謙詭枯姑口格各可恪牽古空楷苦佳\n",
      "來盧落勒洛賴\n",
      "乎獲胡黃懷何侯戸下\n",
      "在徂昨藏前才\n",
      "千醋取七蒼麁麤倉親采遷\n",
      "火呼馨荒呵花虎海\n",
      "奴乃内諾那\n",
      "創初測芻廁叉楚瘡\n",
      "伯晡巴百布北邊補博\n",
      "山生沙數史砂踈所色\n",
      "亡綿靡武文無彌望明眉巫美\n",
      "此雌\n"
     ]
    }
   ],
   "source": [
    "for i in nx.connected_components(G):\n",
    "    print(''.join(i))"
   ]
  },
  {
   "cell_type": "code",
   "execution_count": 11,
   "metadata": {},
   "outputs": [],
   "source": [
    "conn.close()"
   ]
  }
 ],
 "metadata": {
  "kernelspec": {
   "display_name": "Python 3",
   "language": "python",
   "name": "python3"
  },
  "language_info": {
   "codemirror_mode": {
    "name": "ipython",
    "version": 3
   },
   "file_extension": ".py",
   "mimetype": "text/x-python",
   "name": "python",
   "nbconvert_exporter": "python",
   "pygments_lexer": "ipython3",
   "version": "3.7.1"
  }
 },
 "nbformat": 4,
 "nbformat_minor": 2
}
