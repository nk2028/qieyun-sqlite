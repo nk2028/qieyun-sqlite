{
 "cells": [
  {
   "cell_type": "markdown",
   "metadata": {},
   "source": [
    "# 廣韻的例外"
   ]
  },
  {
   "cell_type": "markdown",
   "metadata": {},
   "source": [
    "[返回 GitHub 頁面](https://github.com/sgalal/Guangyun)"
   ]
  },
  {
   "cell_type": "code",
   "execution_count": null,
   "metadata": {},
   "outputs": [],
   "source": [
    "import pandas\n",
    "import sqlite3"
   ]
  },
  {
   "cell_type": "code",
   "execution_count": null,
   "metadata": {},
   "outputs": [],
   "source": [
    "conn = sqlite3.connect('../../data.sqlite3')"
   ]
  },
  {
   "cell_type": "code",
   "execution_count": null,
   "metadata": {},
   "outputs": [],
   "source": [
    "pandas.options.display.max_rows = None\n",
    "pandas.options.display.max_columns = None\n",
    "pandas.options.display.max_colwidth = -1"
   ]
  },
  {
   "cell_type": "markdown",
   "metadata": {},
   "source": [
    "## 沒有反切的小韻"
   ]
  },
  {
   "cell_type": "code",
   "execution_count": null,
   "metadata": {},
   "outputs": [],
   "source": [
    "pandas.read_sql_query('''SELECT 小韻號, 音韻地位, 上字, 下字,\n",
    "GROUP_CONCAT(字頭, '') AS 字頭\n",
    "FROM 廣韻字頭全\n",
    "WHERE 上字 IS NULL\n",
    "OR 下字 IS NULL\n",
    "GROUP BY 小韻號;''', conn)"
   ]
  },
  {
   "cell_type": "markdown",
   "metadata": {},
   "source": [
    "## 具有相同音韻地位的小韻"
   ]
  },
  {
   "cell_type": "code",
   "execution_count": null,
   "metadata": {},
   "outputs": [],
   "source": [
    "pandas.read_sql_query('''SELECT 音韻地位,\n",
    "group_concat(小韻全名) AS 小韻全名\n",
    "FROM 廣韻小韻全\n",
    "GROUP BY 音韻地位\n",
    "HAVING count(*) > 1\n",
    "ORDER BY 小韻號;''', conn)"
   ]
  },
  {
   "cell_type": "markdown",
   "metadata": {},
   "source": [
    "BYVoid[《廣韻中的重紐與重紐歸類問題》](https://www.byvoid.com/blog/kuangx-yonh-dryung-nriux)\n",
    "\n",
    "> 除了上述的重紐現象外，廣韻中還有一些「後增字」。如《廣韻》中有小韻「辟」必益切，又有小韻「碧」彼役切。根據系聯兩個小韻的聲韻地位完全相同，理應歸類爲一個小韻纔對。這種情況不同於重紐，因爲在《刊謬補缺切韻》中，沒有「碧」這個字，而在《唐韻》殘卷中，有「碧色也說文石文美者方彳反一加」，可見「碧」這個字是 **後世新加入的**。由於「碧」所用反切和「辟」不同，《廣韻》編輯者就把「碧」放在了相同韻目的最後，這樣就重出了一個小韻。這種現象的特點是，重複的小韻在前世韻書中沒有出現，且一般只附在《廣韻》一個韻目的最後，零星而不成系統。"
   ]
  },
  {
   "cell_type": "markdown",
   "metadata": {},
   "source": [
    "## 同一個音韻地位存在兩個一樣的字"
   ]
  },
  {
   "cell_type": "code",
   "execution_count": null,
   "metadata": {},
   "outputs": [],
   "source": [
    "pandas.read_sql_query('''SELECT 字頭, 音韻地位,\n",
    "group_concat(小韻號 || '-' || 小韻內字序) AS '小韻號-小韻內字序'\n",
    "FROM 廣韻字頭全\n",
    "GROUP BY 音韻地位, 字頭\n",
    "HAVING count(*) > 1;''', conn)"
   ]
  },
  {
   "cell_type": "markdown",
   "metadata": {},
   "source": [
    "## 有相同反切的小韻"
   ]
  },
  {
   "cell_type": "code",
   "execution_count": null,
   "metadata": {
    "scrolled": false
   },
   "outputs": [],
   "source": [
    "pandas.read_sql_query('''SELECT 上字 || 下字 || '切' AS 反切,\n",
    "group_concat(小韻全名) AS 小韻全名\n",
    "FROM 廣韻小韻全\n",
    "WHERE 上字 IS NOT NULL\n",
    "GROUP BY 上字, 下字\n",
    "HAVING count(*) > 1;''', conn)"
   ]
  },
  {
   "cell_type": "markdown",
   "metadata": {},
   "source": [
    "## 名字相同的小韻"
   ]
  },
  {
   "cell_type": "code",
   "execution_count": null,
   "metadata": {
    "scrolled": false
   },
   "outputs": [],
   "source": [
    "pandas.read_sql_query('''SELECT 小韻, group_concat(小韻全名) AS 小韻全名\n",
    "FROM 廣韻小韻全\n",
    "GROUP BY 小韻\n",
    "HAVING count(*) > 1;''', conn)"
   ]
  },
  {
   "cell_type": "markdown",
   "metadata": {},
   "source": [
    "## 未收錄的反切上字"
   ]
  },
  {
   "cell_type": "code",
   "execution_count": null,
   "metadata": {},
   "outputs": [],
   "source": [
    "pandas.read_sql_query('''SELECT 上字, 小韻號, 音韻地位, 上字 || 下字 || '切' AS 反切\n",
    "FROM 廣韻小韻全\n",
    "WHERE 上字 NOT IN\n",
    "(SELECT 字頭 FROM 廣韻字頭)\n",
    "GROUP BY 上字;''', conn)"
   ]
  },
  {
   "cell_type": "markdown",
   "metadata": {},
   "source": [
    "## 未收錄的反切下字"
   ]
  },
  {
   "cell_type": "code",
   "execution_count": null,
   "metadata": {
    "scrolled": false
   },
   "outputs": [],
   "source": [
    "pandas.read_sql_query('''SELECT 下字, 小韻號, 音韻地位, 上字 || 下字 || '切' AS 反切\n",
    "FROM 廣韻小韻全\n",
    "WHERE 下字 NOT IN\n",
    "(SELECT 字頭 FROM 廣韻字頭)\n",
    "GROUP BY 下字;''', conn)"
   ]
  },
  {
   "cell_type": "markdown",
   "metadata": {},
   "source": [
    "## 長度大於 1 的字"
   ]
  },
  {
   "cell_type": "code",
   "execution_count": null,
   "metadata": {},
   "outputs": [],
   "source": [
    "pandas.read_sql_query('''SELECT 字頭, 解釋, 小韻全名,\n",
    "音韻地位, 小韻內字序\n",
    "FROM 廣韻字頭全\n",
    "WHERE length(字頭) > 1;''', conn)"
   ]
  },
  {
   "cell_type": "code",
   "execution_count": null,
   "metadata": {},
   "outputs": [],
   "source": [
    "conn.close()"
   ]
  }
 ],
 "metadata": {
  "kernelspec": {
   "display_name": "Python 3",
   "language": "python",
   "name": "python3"
  },
  "language_info": {
   "codemirror_mode": {
    "name": "ipython",
    "version": 3
   },
   "file_extension": ".py",
   "mimetype": "text/x-python",
   "name": "python",
   "nbconvert_exporter": "python",
   "pygments_lexer": "ipython3",
   "version": "3.7.1"
  }
 },
 "nbformat": 4,
 "nbformat_minor": 2
}
