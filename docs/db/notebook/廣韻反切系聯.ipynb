{
 "cells": [
  {
   "cell_type": "markdown",
   "metadata": {},
   "source": [
    "# 廣韻反切系聯"
   ]
  },
  {
   "cell_type": "markdown",
   "metadata": {},
   "source": [
    "[返回 GitHub 頁面](https://github.com/sgalal/Guangyun)"
   ]
  },
  {
   "cell_type": "code",
   "execution_count": 1,
   "metadata": {},
   "outputs": [],
   "source": [
    "from collections import defaultdict"
   ]
  },
  {
   "cell_type": "code",
   "execution_count": 2,
   "metadata": {},
   "outputs": [],
   "source": [
    "import networkx as nx"
   ]
  },
  {
   "cell_type": "code",
   "execution_count": 3,
   "metadata": {},
   "outputs": [],
   "source": [
    "import sqlite3"
   ]
  },
  {
   "cell_type": "code",
   "execution_count": 4,
   "metadata": {},
   "outputs": [],
   "source": [
    "conn = sqlite3.connect('../data.sqlite3')"
   ]
  },
  {
   "cell_type": "code",
   "execution_count": 5,
   "metadata": {},
   "outputs": [],
   "source": [
    "cur = conn.cursor()"
   ]
  },
  {
   "cell_type": "markdown",
   "metadata": {},
   "source": [
    "## 反切上字"
   ]
  },
  {
   "cell_type": "code",
   "execution_count": 6,
   "metadata": {},
   "outputs": [],
   "source": [
    "G = nx.Graph()"
   ]
  },
  {
   "cell_type": "code",
   "execution_count": 7,
   "metadata": {},
   "outputs": [],
   "source": [
    "G.add_edges_from(cur.execute('''SELECT DISTINCT 廣韻小韻.上字, 廣韻字頭全.上字\n",
    "FROM 廣韻小韻 INNER JOIN 廣韻字頭全\n",
    "ON 廣韻小韻.上字 = 廣韻字頭全.字頭\n",
    "WHERE 廣韻小韻.上字 <> 廣韻字頭全.上字;'''))"
   ]
  },
  {
   "cell_type": "code",
   "execution_count": 8,
   "metadata": {},
   "outputs": [
    {
     "name": "stdout",
     "output_type": "stream",
     "text": [
      "資寫悉悅自特承鄒通將池相書旬夕徐豬市職猪託乗臣癡脂都持先私墜支是司陟遟營中署即丈堂夷他度舒徒商祥殊卓雖餘祖仄台式恥直食蘇胥追疾以田隨始矢寔息兹徵氏甞諸旨佇敕唐寺褚除則詳醉借冬知斯情失十辭羊側陀弋慈爭余宅杜征辝丑土似抽桑丁占場神竹珍思馳翼施成試楮賞吐之天同蜀遵𩛠須張速移臧作子與簪視煑莊當實漸柱阻素正識時詩植殖治傷釋止秦匠辛常湯章\n",
      "吉曲几央士烏衢臼朽査丘虚崇羲俱羌求規強紀興卿袪愛鶵狂綺於挹紆鋤其弃渠雛詰安乙伊香委乞跪憶居助况曁去哀烟握墟窺仕豈依九欽崱俟鷖況鉏喜休具驅區謁衣許一憂巨傾牀起舉\n",
      "平婢彼并浮卑馮白畀陂鄙蒲扶必分房兵父傍封毗符甫捕府防附部便縛皮弼方裴步薄筆\n",
      "尺姝處充叱赤昌\n",
      "姑古過各兼格詭枯苦公乖佳客牽可空恪康楷口謙\n",
      "汝儒女虞魚耳宜擬人仍拏如愚語而研穠吾玉五遇疑牛尼俄危兒\n",
      "丕普拂撫滂峯孚披匹妃敷芳譬\n",
      "王爲韋云有筠薳洧雲雨于永榮羽\n",
      "離林呂力良縷魯里郎練連\n",
      "無美巫明望彌靡武綿文亡眉\n",
      "雌此\n",
      "楚廁瘡叉測初芻創\n",
      "色所山數踈砂生沙史\n",
      "摸慕母矛謨莫模\n",
      "獲胡乎懷下戸黃侯何\n",
      "諾那奴乃内\n",
      "呵花火呼馨虎海荒\n",
      "盧勒落洛來賴\n",
      "昨藏在才前徂\n",
      "北布巴邊百補晡伯博\n",
      "麤麁倉取遷七醋千蒼采親\n",
      "德得多\n"
     ]
    }
   ],
   "source": [
    "for i in nx.connected_components(G):\n",
    "    print(''.join(i))"
   ]
  },
  {
   "cell_type": "markdown",
   "metadata": {},
   "source": [
    "## 反切下字"
   ]
  },
  {
   "cell_type": "code",
   "execution_count": 9,
   "metadata": {},
   "outputs": [],
   "source": [
    "d = defaultdict(set)"
   ]
  },
  {
   "cell_type": "code",
   "execution_count": 10,
   "metadata": {},
   "outputs": [],
   "source": [
    "for rhyme, lower_char, lower_char_of_lower_char in cur.execute('''SELECT DISTINCT 廣韻小韻.韻, 廣韻小韻.下字, 廣韻字頭全.下字\n",
    "FROM 廣韻小韻 INNER JOIN 廣韻字頭全\n",
    "ON 廣韻小韻.下字 = 廣韻字頭全.字頭\n",
    "WHERE 廣韻小韻.韻 = 廣韻字頭全.韻\n",
    "AND 廣韻小韻.下字 <> 廣韻字頭全.下字\n",
    "ORDER BY 廣韻小韻.小韻號;'''):\n",
    "    d[rhyme].add((lower_char, lower_char_of_lower_char))"
   ]
  },
  {
   "cell_type": "code",
   "execution_count": 11,
   "metadata": {
    "scrolled": false
   },
   "outputs": [
    {
     "name": "stdout",
     "output_type": "stream",
     "text": [
      "東\t融弓終宮中戎, 東紅公空\n",
      "冬\t宗冬\n",
      "鍾\t容庸鍾凶封恭\n",
      "江\t江雙\n",
      "支\t離垂爲吹支移知\n",
      "支A\t規隋\n",
      "支B\t羈宜\n",
      "脂\t資脂私夷尼, 綏隹遺追\n",
      "脂B\t夷肌, 悲眉\n",
      "之\t其兹之持甾而\n",
      "微\t微非韋歸, 希依衣\n",
      "魚\t余諸居魚\n",
      "虞\t無夫, 逾朱俞誅隅于輸俱芻\n",
      "模\t吾胡姑乎孤吳都烏\n",
      "齊\t圭攜, 低雞迷兮臡奚稽\n",
      "佳\t佳膎, 緺媧蛙\n",
      "皆\t皆諧, 懷淮乖\n",
      "灰\t恢灰回杯\n",
      "咍\t開哀來, 哉才\n",
      "眞\t鄰珍人眞\n",
      "眞B\t巾銀\n",
      "諄\t脣迍倫遵綸勻旬\n",
      "臻\t臻詵\n",
      "文\t文分云\n",
      "欣\t欣斤\n",
      "元\t袁元煩, 軒言\n",
      "魂\t尊奔昆渾\n",
      "痕\t恩痕根\n",
      "寒\t安寒干\n",
      "桓\t官潘丸端\n",
      "刪\t姦顔, 頑關班還\n",
      "山\t閑閒山, 頑鰥\n",
      "先\t涓玄, 前煙先, 年田賢堅顚\n",
      "仙\t員攣, 川全緣專泉宣, 延連然仙\n",
      "仙B\t乾焉, 權員\n",
      "蕭\t幺彫堯聊蕭\n",
      "宵\t宵消焦邀, 遙招昭\n",
      "宵B\t嬌嚻瀌喬\n",
      "肴\t肴交嘲茅\n",
      "豪\t袍襃毛, 遭刀勞牢曹\n",
      "歌\t歌河何俄\n",
      "戈\t𦚢靴𩨷, 迦伽, 波禾和戈婆\n",
      "麻\t奢賒邪車嗟遮, 加霞牙巴, 花瓜華\n",
      "陽\t王良莊陽方羊張章\n",
      "唐\t郎岡當剛, 旁光黃\n",
      "庚\t盲庚橫行, 明榮兵, 驚京卿\n",
      "耕\t耕宏莖萌\n",
      "清\t成盈情征貞, 營傾\n",
      "清A\t盈并\n",
      "青\t經刑靈丁, 扃螢\n",
      "蒸\t蒸膺冰仍陵矜乗升兢\n",
      "登\t恒棱朋滕增登崩, 弘肱\n",
      "尤\t謀浮, 鳩周州秋流尤由求\n",
      "侯\t鉤婁侯\n",
      "幽\t彪幽烋虯\n",
      "侵\t深淫針, 簪吟, 林尋心任\n",
      "侵B\t金吟\n",
      "覃\t男南含\n",
      "談\t三酣甘談\n",
      "鹽\t炎鹽占廉\n",
      "鹽B\t淹炎\n",
      "添\t甜兼\n",
      "咸\t咸讒\n",
      "銜\t監銜\n",
      "嚴\t𩏩嚴\n",
      "凡\t咸凡\n",
      "董\t蠓揔孔董動\n",
      "腫\t踵隴奉冢宂勇, 拱悚\n",
      "湩\t湩𪁪\n",
      "講\t項慃講\n",
      "紙\t氏此侈豸是帋爾紙, 捶累髓委\n",
      "紙B\t彼委綺靡詭倚毀\n",
      "紙A\t婢弭俾\n",
      "旨\t水壘軌誄, 視矢, 雉履几\n",
      "旨B\t鄙美, 履几, 軌洧\n",
      "旨A\t癸誄\n",
      "止\t止市, 擬紀理里士己史\n",
      "尾\t匪尾, 狶豈, 鬼偉\n",
      "語\t吕巨与與許舉渚\n",
      "麌\t主庾, 甫武矩雨羽禹\n",
      "姥\t古戸杜魯補\n",
      "薺\t啓米禮弟\n",
      "蟹\t夥𦫳蟹買\n",
      "駭\t楷駭\n",
      "賄\t罪賄猥\n",
      "海\t亥宰愷在改乃紿\n",
      "軫\t忍引紖軫\n",
      "準\t允準尹\n",
      "吻\t粉吻\n",
      "隱\t隱謹\n",
      "阮\t晚阮遠, 幰偃\n",
      "混\t損忖本衮\n",
      "很\t很墾\n",
      "旱\t笴旱但\n",
      "緩\t滿纂管旱伴緩\n",
      "潸\t綰赧鯇板\n",
      "產\t限簡\n",
      "銑\t繭殄峴典, 泫畎\n",
      "獮\t善演淺翦展, 轉兖\n",
      "獮B\t輦蹇免辨\n",
      "獮A\t緬兖\n",
      "篠\t皛了鳥皎\n",
      "小\t沼少, 兆小\n",
      "小B\t嬌表夭兆\n",
      "巧\t絞爪巧飽\n",
      "晧\t老抱浩晧道早\n",
      "哿\t可我\n",
      "果\t果火\n",
      "馬\t下疋賈雅, 野姐者冶也, 寡瓦\n",
      "養\t网昉往兩掌丈㢡養\n",
      "蕩\t朗黨, 廣晃\n",
      "梗\t影丙永憬景, 打冷, 幸䁝礦猛, 杏梗\n",
      "耿\t幸耿\n",
      "靜\t整井郢靜\n",
      "迥\t頂挺迥鼎剄涬醒\n",
      "拯\t庱拯\n",
      "等\t等肯\n",
      "有\t有否柳九酉婦久\n",
      "厚\t后垢苟口斗厚\n",
      "黝\t糾黝\n",
      "寑\t稔荏甚朕凜枕, 㾕錦\n",
      "寑B\t飲錦\n",
      "感\t感禫唵\n",
      "敢\t敢覽\n",
      "琰\t琰冉染漸\n",
      "琰B\t儉險檢奄\n",
      "忝\t忝簟玷\n",
      "儼\t广掩\n",
      "豏\t減豏斬\n",
      "檻\t檻黤\n",
      "梵\t錽范犯\n",
      "送\t鳳弄送凍貢, 衆仲\n",
      "宋\t宋統綜\n",
      "用\t用頌\n",
      "絳\t巷降絳\n",
      "寘\t賜豉智義, 僞瑞睡累\n",
      "寘B\t寄義, 僞睡\n",
      "寘A\t避義恚, 智企\n",
      "至\t萃類遂醉, 至四自二利\n",
      "至B\t器兾冀利, 愧位, 媚祕備\n",
      "至A\t寐二, 季悸\n",
      "志\t吏記志置\n",
      "未\t貴畏胃, 旣豙, 未味沸\n",
      "御\t預署恕洳, 倨助御去慮據\n",
      "遇\t句注遇戍具\n",
      "暮\t祚暮故路誤\n",
      "霽\t惠桂, 詣計戾\n",
      "祭\t例制, 銳芮歲稅\n",
      "祭A\t蔽𡚁祭袂\n",
      "祭B\t例罽憩\n",
      "廢\t吠廢穢肺\n",
      "泰\t大帶艾蓋太貝, 外會最\n",
      "卦\t賣隘卦懈\n",
      "怪\t拜界介怪戒壞\n",
      "夬\t喝犗, 賣夬快話邁\n",
      "隊\t内隊繢對, 佩昧妹輩\n",
      "代\t耐槩代漑愛\n",
      "震\t晉遴刃振\n",
      "震B\t遴覲\n",
      "震A\t刃印\n",
      "稕\t順峻閏\n",
      "問\t運問\n",
      "焮\t靳焮\n",
      "願\t建万願怨堰販\n",
      "慁\t困悶寸\n",
      "恨\t恨艮\n",
      "翰\t案旰旦按賛\n",
      "換\t筭亂段貫玩喚換, 半慢\n",
      "諫\t諫澗晏鴈, 患慣\n",
      "襇\t莧襇幻辨\n",
      "霰\t電甸縣佃練見麵\n",
      "線\t扇戰膳, 賤箭碾線, 卷囀戀, 絹釧\n",
      "線B\t卷倦變眷\n",
      "線A\t箭面\n",
      "嘯\t弔嘯叫\n",
      "笑\t召照少, 妙肖\n",
      "笑B\t召廟\n",
      "笑A\t妙要笑\n",
      "效\t皃敎孝稍\n",
      "号\t到導, 耗報\n",
      "箇\t个箇邏賀佐\n",
      "過\t唾過卧, 貨臥\n",
      "禡\t駕霸㕦亞化訝罵嫁, 夜謝\n",
      "漾\t放妄, 況亮樣訪向讓\n",
      "宕\t曠謗, 浪宕\n",
      "映\t更孟橫, 敬慶, 命病\n",
      "諍\t迸諍\n",
      "勁\t鄭正盛政姓\n",
      "徑\t徑佞定\n",
      "證\t應證𩜁孕甑\n",
      "嶝\t亘隥鄧贈\n",
      "宥\t副救溜富又呪祐, 僦就\n",
      "候\t遘奏漏豆候\n",
      "幼\t幼謬\n",
      "沁\t鴆禁任, 蔭譖\n",
      "沁B\t蔭禁\n",
      "勘\t紺暗\n",
      "闞\t蹔暫瞰濫𣊟\n",
      "豔\t贍豔\n",
      "豔B\t驗窆\n",
      "㮇\t念店\n",
      "釅\t釅欠劒\n",
      "陷\t陷韽\n",
      "鑑\t鑑鑒懺\n",
      "范\t泛梵\n",
      "屋\t福宿匊逐菊六竹, 谷禄, 木卜\n",
      "沃\t毒篤沃酷\n",
      "燭\t曲足録欲玉蜀\n",
      "覺\t岳覺角\n",
      "質\t日栗質, 七吉悉\n",
      "質A\t吉必質畢\n",
      "質B\t筆乙畢密\n",
      "術\t卹律聿\n",
      "櫛\t瑟櫛\n",
      "物\t勿物弗\n",
      "迄\t訖迄乙\n",
      "月\t發越伐, 竭訐歇謁, 厥月\n",
      "沒\t忽骨, 勃没\n",
      "曷\t達葛割曷\n",
      "末\t栝括活, 末撥\n",
      "鎋\t黠八拔滑\n",
      "黠\t轄瞎鎋, 䫄刮\n",
      "屑\t蔑屑結, 穴決\n",
      "薛\t絕雪悅, 輟爇劣, 熱辥列\n",
      "薛B\t竭列\n",
      "薛A\t滅列\n",
      "藥\t縛籰钁, 雀藥略若勺爵虐灼約\n",
      "鐸\t郭各穫落博\n",
      "陌\t擭虢白陌格伯, 劇逆戟郤\n",
      "麥\t厄核責戹革摘, 麥獲摑\n",
      "昔\t益易亦, 役隻炙石, 積迹昔\n",
      "昔A\t益昔辟\n",
      "錫\t激擊狄歷, 鶪闃狊\n",
      "職\t極逼力即直側, 職翼\n",
      "德\t北墨黑, 或國, 德則勒得\n",
      "緝\t入執戢立汁\n",
      "緝B\t汲及急立\n",
      "合\t荅沓閤合\n",
      "盍\t榼盍臘\n",
      "葉\t輒接涉攝葉\n",
      "怗\t頰協愜牒\n",
      "洽\t夾㘝洽\n",
      "狎\t狎甲\n",
      "業\t業劫怯\n",
      "乏\t法乏\n"
     ]
    }
   ],
   "source": [
    "for rhyme, pairs in d.items():\n",
    "    G = nx.Graph()\n",
    "    G.add_edges_from(pairs)\n",
    "    print(rhyme + '\\t' + ', '.join(''.join(i) for i in nx.connected_components(G)))"
   ]
  },
  {
   "cell_type": "code",
   "execution_count": 12,
   "metadata": {},
   "outputs": [],
   "source": [
    "conn.close()"
   ]
  }
 ],
 "metadata": {
  "kernelspec": {
   "display_name": "Python 3",
   "language": "python",
   "name": "python3"
  },
  "language_info": {
   "codemirror_mode": {
    "name": "ipython",
    "version": 3
   },
   "file_extension": ".py",
   "mimetype": "text/x-python",
   "name": "python",
   "nbconvert_exporter": "python",
   "pygments_lexer": "ipython3",
   "version": "3.7.1"
  }
 },
 "nbformat": 4,
 "nbformat_minor": 2
}
