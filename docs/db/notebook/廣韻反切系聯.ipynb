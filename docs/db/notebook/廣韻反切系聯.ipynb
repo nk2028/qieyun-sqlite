{
 "cells": [
  {
   "cell_type": "markdown",
   "metadata": {},
   "source": [
    "# 廣韻反切系聯"
   ]
  },
  {
   "cell_type": "markdown",
   "metadata": {},
   "source": [
    "[返回 GitHub 頁面](https://github.com/sgalal/Guangyun)"
   ]
  },
  {
   "cell_type": "code",
   "execution_count": 1,
   "metadata": {},
   "outputs": [],
   "source": [
    "from collections import defaultdict"
   ]
  },
  {
   "cell_type": "code",
   "execution_count": 2,
   "metadata": {},
   "outputs": [],
   "source": [
    "import networkx as nx"
   ]
  },
  {
   "cell_type": "code",
   "execution_count": 3,
   "metadata": {},
   "outputs": [],
   "source": [
    "import sqlite3"
   ]
  },
  {
   "cell_type": "code",
   "execution_count": 4,
   "metadata": {},
   "outputs": [],
   "source": [
    "conn = sqlite3.connect('../../data.sqlite3')"
   ]
  },
  {
   "cell_type": "code",
   "execution_count": 5,
   "metadata": {},
   "outputs": [],
   "source": [
    "cur = conn.cursor()"
   ]
  },
  {
   "cell_type": "markdown",
   "metadata": {},
   "source": [
    "## 反切上字"
   ]
  },
  {
   "cell_type": "code",
   "execution_count": 6,
   "metadata": {},
   "outputs": [],
   "source": [
    "G = nx.Graph()"
   ]
  },
  {
   "cell_type": "code",
   "execution_count": 7,
   "metadata": {},
   "outputs": [],
   "source": [
    "G.add_edges_from(cur.execute('''SELECT DISTINCT 廣韻小韻.上字, 廣韻字頭全.上字\n",
    "FROM 廣韻小韻 INNER JOIN 廣韻字頭全\n",
    "ON 廣韻小韻.上字 = 廣韻字頭全.字頭\n",
    "WHERE 廣韻小韻.上字 <> 廣韻字頭全.上字;'''))"
   ]
  },
  {
   "cell_type": "code",
   "execution_count": 8,
   "metadata": {},
   "outputs": [
    {
     "name": "stdout",
     "output_type": "stream",
     "text": [
      "之先土借度占私池子脂司側寔徵湯視杜殊中豬甞治職敕素是成馳兹署始夕蘇漸失遵爭田知實同章自卓祖託竹悅張思莊情舒辛丁疾傷珍鄒台他常釋猪陟則癡夷簪臧楮寫柱植試式翼仄市胥抽時詳識雖征當餘即徐十賞都除煑營秦支丑相與遟正冬施乗祥𩛠作宅桑徒將通辝息陀速商資辭丈斯須食直醉詩旨阻墜追特旬持場余唐天隨神以悉羊寺移吐殖匠弋諸慈書恥止似佇褚臣承堂矢氏蜀\n",
      "仕其虚驅衣紆傾鉏於弃委居起區俟况況憂狂曁握崇央強休求依安鋤丘挹袪乞雛喜一愛規鶵卿窺衢綺牀豈詰朽査臼助興墟九士巨欽謁几乙曲許烟憶吉鷖伊舉俱紀去羌崱哀跪具羲渠香烏\n",
      "必父兵便甫弼分彼婢防裴符薄部方平陂鄙縛毗浮卑附步房封畀白皮府捕馮蒲筆并扶傍\n",
      "叱姝處昌尺充赤\n",
      "楷謙古乖恪康客枯格各詭空過兼可公佳姑苦牽口\n",
      "魚吾穠疑牛而拏語耳擬五尼危女虞仍愚俄遇汝研人儒玉兒宜如\n",
      "披譬芳普丕匹孚妃滂敷拂撫峯\n",
      "有薳洧爲云于筠雲韋永榮王雨羽\n",
      "里良練連離呂郎縷林魯力\n",
      "文彌綿眉無美靡巫武望明亡\n",
      "雌此\n",
      "初創瘡測楚廁叉芻\n",
      "史山所數踈砂生沙色\n",
      "謨摸模莫母矛慕\n",
      "乎下黃侯戸胡獲何懷\n",
      "内乃諾那奴\n",
      "荒火花虎馨呵海呼\n",
      "賴落勒洛盧來\n",
      "徂在前昨才藏\n",
      "補晡邊北百博巴伯布\n",
      "遷麁七采倉取千親醋蒼麤\n",
      "德得多\n"
     ]
    }
   ],
   "source": [
    "for i in nx.connected_components(G):\n",
    "    print(''.join(i))"
   ]
  },
  {
   "cell_type": "markdown",
   "metadata": {},
   "source": [
    "## 反切下字"
   ]
  },
  {
   "cell_type": "code",
   "execution_count": 9,
   "metadata": {},
   "outputs": [],
   "source": [
    "d = defaultdict(set)"
   ]
  },
  {
   "cell_type": "code",
   "execution_count": 10,
   "metadata": {},
   "outputs": [],
   "source": [
    "for rhyme, lower_char, lower_char_of_lower_char in cur.execute('''SELECT DISTINCT 廣韻小韻.韻, 廣韻小韻.下字, 廣韻字頭全.下字\n",
    "FROM 廣韻小韻 INNER JOIN 廣韻字頭全\n",
    "ON 廣韻小韻.下字 = 廣韻字頭全.字頭\n",
    "WHERE 廣韻小韻.韻 = 廣韻字頭全.韻\n",
    "AND 廣韻小韻.下字 <> 廣韻字頭全.下字\n",
    "ORDER BY 廣韻小韻.小韻號;'''):\n",
    "    d[rhyme].add((lower_char, lower_char_of_lower_char))"
   ]
  },
  {
   "cell_type": "code",
   "execution_count": 11,
   "metadata": {
    "scrolled": false
   },
   "outputs": [
    {
     "name": "stdout",
     "output_type": "stream",
     "text": [
      "東\t公紅東空, 戎融宮中弓終\n",
      "冬\t宗冬\n",
      "鍾\t庸凶鍾封恭容\n",
      "江\t雙江\n",
      "支\t移爲吹離垂知支\n",
      "支A\t隋規\n",
      "支B\t羈宜\n",
      "脂\t資私尼脂夷, 隹綏追遺\n",
      "脂B\t悲眉, 肌夷\n",
      "之\t甾之持而其兹\n",
      "微\t非微歸韋, 依希衣\n",
      "魚\t諸魚居余\n",
      "虞\t誅逾俱于朱俞隅輸芻, 無夫\n",
      "模\t乎孤都姑吳吾胡烏\n",
      "齊\t兮奚雞稽低臡迷, 攜圭\n",
      "佳\t佳膎, 媧緺蛙\n",
      "皆\t懷乖淮, 諧皆\n",
      "灰\t回灰杯恢\n",
      "咍\t來哀開, 才哉\n",
      "眞\t珍人眞鄰\n",
      "眞B\t銀巾\n",
      "諄\t綸遵旬脣勻迍倫\n",
      "臻\t臻詵\n",
      "文\t分云文\n",
      "欣\t欣斤\n",
      "元\t煩元袁, 言軒\n",
      "魂\t昆渾尊奔\n",
      "痕\t痕根恩\n",
      "寒\t安干寒\n",
      "桓\t端官潘丸\n",
      "刪\t還班頑關, 顔姦\n",
      "山\t山閒閑, 頑鰥\n",
      "先\t前先煙, 玄涓, 堅顚田賢年\n",
      "仙\t川專泉宣緣全, 員攣, 連延然仙\n",
      "仙B\t焉乾, 權員\n",
      "蕭\t聊堯幺彫蕭\n",
      "宵\t招遙昭, 邀焦宵消\n",
      "宵B\t喬瀌嬌嚻\n",
      "肴\t交肴嘲茅\n",
      "豪\t牢刀曹勞遭, 袍毛襃\n",
      "歌\t俄河歌何\n",
      "戈\t伽迦, 𩨷𦚢靴, 和波禾婆戈\n",
      "麻\t花華瓜, 車嗟奢賒遮邪, 加巴牙霞\n",
      "陽\t章陽方良張莊王羊\n",
      "唐\t當岡郎剛, 光旁黃\n",
      "庚\t盲橫庚行, 明榮兵, 卿驚京\n",
      "耕\t耕莖宏萌\n",
      "清\t盈貞情成征, 傾營\n",
      "清A\t并盈\n",
      "青\t靈經刑丁, 螢扃\n",
      "蒸\t冰升矜兢膺蒸仍乗陵\n",
      "登\t肱弘, 增棱登滕朋崩恒\n",
      "尤\t周州尤由秋鳩求流, 謀浮\n",
      "侯\t婁侯鉤\n",
      "幽\t虯烋幽彪\n",
      "侵\t任林尋心, 吟簪, 針深淫\n",
      "侵B\t金吟\n",
      "覃\t南男含\n",
      "談\t酣談甘三\n",
      "鹽\t占廉炎鹽\n",
      "鹽B\t淹炎\n",
      "添\t兼甜\n",
      "咸\t讒咸\n",
      "銜\t監銜\n",
      "嚴\t嚴𩏩\n",
      "凡\t凡咸\n",
      "董\t董蠓動揔孔\n",
      "腫\t拱悚, 踵奉宂隴勇冢\n",
      "湩\t𪁪湩\n",
      "講\t慃項講\n",
      "紙\t爾此侈紙帋是豸氏, 髓累捶委\n",
      "紙B\t彼綺靡委倚詭毀\n",
      "紙A\t婢俾弭\n",
      "旨\t履雉几, 矢視, 軌水壘誄\n",
      "旨B\t鄙美, 軌洧, 履几\n",
      "旨A\t癸誄\n",
      "止\t市止, 史理里紀己擬士\n",
      "尾\t匪尾, 鬼偉, 豈狶\n",
      "語\t許巨舉與与吕渚\n",
      "麌\t禹甫矩武雨羽, 主庾\n",
      "姥\t補杜戸古魯\n",
      "薺\t啓弟禮米\n",
      "蟹\t𦫳買蟹夥\n",
      "駭\t駭楷\n",
      "賄\t賄猥罪\n",
      "海\t乃紿在宰改亥愷\n",
      "軫\t軫引紖忍\n",
      "準\t準允尹\n",
      "吻\t吻粉\n",
      "隱\t隱謹\n",
      "阮\t遠阮晚, 偃幰\n",
      "混\t忖損本衮\n",
      "很\t墾很\n",
      "旱\t旱但笴\n",
      "緩\t旱緩滿纂管伴\n",
      "潸\t板鯇綰赧\n",
      "產\t限簡\n",
      "銑\t泫畎, 典峴殄繭\n",
      "獮\t翦淺演展善, 兖轉\n",
      "獮B\t輦蹇免辨\n",
      "獮A\t兖緬\n",
      "篠\t了皎皛鳥\n",
      "小\t沼少, 兆小\n",
      "小B\t表嬌夭兆\n",
      "巧\t爪巧絞飽\n",
      "晧\t浩抱道早老晧\n",
      "哿\t我可\n",
      "果\t果火\n",
      "馬\t賈下雅疋, 姐也者野冶, 寡瓦\n",
      "養\t掌往网兩昉養丈㢡\n",
      "蕩\t廣晃, 朗黨\n",
      "梗\t丙景影憬永, 打冷, 杏梗, 猛礦䁝幸\n",
      "耿\t幸耿\n",
      "靜\t整郢靜井\n",
      "迥\t鼎迥醒頂剄涬挺\n",
      "拯\t拯庱\n",
      "等\t等肯\n",
      "有\t有否柳酉九久婦\n",
      "厚\t垢后厚口苟斗\n",
      "黝\t糾黝\n",
      "寑\t甚凜荏枕稔朕, 錦㾕\n",
      "寑B\t飲錦\n",
      "感\t唵感禫\n",
      "敢\t敢覽\n",
      "琰\t琰冉染漸\n",
      "琰B\t奄檢險儉\n",
      "忝\t玷簟忝\n",
      "儼\t广掩\n",
      "豏\t斬豏減\n",
      "檻\t黤檻\n",
      "梵\t犯范錽\n",
      "送\t鳳凍貢弄送, 仲衆\n",
      "宋\t綜統宋\n",
      "用\t用頌\n",
      "絳\t巷絳降\n",
      "寘\t智賜義豉, 瑞累僞睡\n",
      "寘B\t義寄, 僞睡\n",
      "寘A\t義避恚, 智企\n",
      "至\t利至自四二, 類醉遂萃\n",
      "至B\t備媚祕, 愧位, 兾冀器利\n",
      "至A\t二寐, 季悸\n",
      "志\t記吏置志\n",
      "未\t胃貴畏, 豙旣, 沸味未\n",
      "御\t御倨去慮助據, 預洳恕署\n",
      "遇\t具遇注戍句\n",
      "暮\t誤暮祚故路\n",
      "霽\t惠桂, 戾計詣\n",
      "祭\t芮銳歲稅, 制例\n",
      "祭A\t祭𡚁袂蔽\n",
      "祭B\t憩例罽\n",
      "廢\t廢吠穢肺\n",
      "泰\t艾大太貝蓋帶, 外會最\n",
      "卦\t卦賣懈隘\n",
      "怪\t界介怪拜戒壞\n",
      "夬\t喝犗, 話快邁賣夬\n",
      "隊\t妹輩佩昧, 隊内繢對\n",
      "代\t耐槩漑愛代\n",
      "震\t晉振刃遴\n",
      "震B\t覲遴\n",
      "震A\t印刃\n",
      "稕\t閏峻順\n",
      "問\t運問\n",
      "焮\t靳焮\n",
      "願\t堰願販万怨建\n",
      "慁\t寸悶困\n",
      "恨\t恨艮\n",
      "翰\t旰賛旦案按\n",
      "換\t亂貫喚筭換段玩, 半慢\n",
      "諫\t澗晏諫鴈, 患慣\n",
      "襇\t襇幻莧辨\n",
      "霰\t甸練佃電見麵縣\n",
      "線\t線賤碾箭, 戀囀卷, 戰扇膳, 絹釧\n",
      "線B\t眷卷倦變\n",
      "線A\t面箭\n",
      "嘯\t叫嘯弔\n",
      "笑\t少召照, 肖妙\n",
      "笑B\t廟召\n",
      "笑A\t要妙笑\n",
      "效\t孝皃稍敎\n",
      "号\t耗報, 到導\n",
      "箇\t佐邏賀箇个\n",
      "過\t臥貨, 過唾卧\n",
      "禡\t謝夜, 亞罵㕦嫁訝化駕霸\n",
      "漾\t向況樣亮讓訪, 放妄\n",
      "宕\t曠謗, 宕浪\n",
      "映\t命病, 更孟橫, 慶敬\n",
      "諍\t迸諍\n",
      "勁\t姓正政盛鄭\n",
      "徑\t定徑佞\n",
      "證\t證甑應孕𩜁\n",
      "嶝\t隥鄧亘贈\n",
      "宥\t僦就, 呪又富祐副救溜\n",
      "候\t豆候漏遘奏\n",
      "幼\t謬幼\n",
      "沁\t譖蔭, 禁任鴆\n",
      "沁B\t禁蔭\n",
      "勘\t紺暗\n",
      "闞\t濫蹔瞰暫𣊟\n",
      "豔\t贍豔\n",
      "豔B\t窆驗\n",
      "㮇\t店念\n",
      "釅\t劒欠釅\n",
      "陷\t陷韽\n",
      "鑑\t懺鑑鑒\n",
      "范\t梵泛\n",
      "屋\t谷禄, 六匊竹逐福宿菊, 卜木\n",
      "沃\t毒酷沃篤\n",
      "燭\t曲欲玉足録蜀\n",
      "覺\t岳覺角\n",
      "質\t七悉吉, 日質栗\n",
      "質A\t質必畢吉\n",
      "質B\t密乙畢筆\n",
      "術\t卹聿律\n",
      "櫛\t瑟櫛\n",
      "物\t物弗勿\n",
      "迄\t迄乙訖\n",
      "月\t厥月, 發伐越, 訐歇竭謁\n",
      "沒\t骨忽, 没勃\n",
      "曷\t葛達曷割\n",
      "末\t活括栝, 末撥\n",
      "鎋\t黠拔八滑\n",
      "黠\t䫄刮, 轄瞎鎋\n",
      "屑\t結屑蔑, 穴決\n",
      "薛\t熱辥列, 爇劣輟, 雪悅絕\n",
      "薛B\t竭列\n",
      "薛A\t滅列\n",
      "藥\t約若略藥勺爵虐灼雀, 钁縛籰\n",
      "鐸\t郭各穫落博\n",
      "陌\t格白虢擭伯陌, 逆劇戟郤\n",
      "麥\t厄戹革核責摘, 麥獲摑\n",
      "昔\t隻役石炙, 昔積迹, 亦易益\n",
      "昔A\t益昔辟\n",
      "錫\t激狄歷擊, 闃狊鶪\n",
      "職\t翼職, 即側極逼直力\n",
      "德\t北墨黑, 則勒得德, 或國\n",
      "緝\t執入立戢汁\n",
      "緝B\t汲立急及\n",
      "合\t荅沓合閤\n",
      "盍\t榼盍臘\n",
      "葉\t攝輒涉葉接\n",
      "怗\t牒愜頰協\n",
      "洽\t洽㘝夾\n",
      "狎\t甲狎\n",
      "業\t劫怯業\n",
      "乏\t乏法\n"
     ]
    }
   ],
   "source": [
    "for rhyme, pairs in d.items():\n",
    "    G = nx.Graph()\n",
    "    G.add_edges_from(pairs)\n",
    "    print(rhyme + '\\t' + ', '.join(''.join(i) for i in nx.connected_components(G)))"
   ]
  },
  {
   "cell_type": "code",
   "execution_count": 12,
   "metadata": {},
   "outputs": [],
   "source": [
    "conn.close()"
   ]
  }
 ],
 "metadata": {
  "kernelspec": {
   "display_name": "Python 3",
   "language": "python",
   "name": "python3"
  },
  "language_info": {
   "codemirror_mode": {
    "name": "ipython",
    "version": 3
   },
   "file_extension": ".py",
   "mimetype": "text/x-python",
   "name": "python",
   "nbconvert_exporter": "python",
   "pygments_lexer": "ipython3",
   "version": "3.7.1"
  }
 },
 "nbformat": 4,
 "nbformat_minor": 2
}
