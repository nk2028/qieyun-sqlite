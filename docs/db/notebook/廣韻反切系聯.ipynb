{
 "cells": [
  {
   "cell_type": "markdown",
   "metadata": {},
   "source": [
    "# 廣韻反切系聯"
   ]
  },
  {
   "cell_type": "markdown",
   "metadata": {},
   "source": [
    "[返回 GitHub 頁面](https://github.com/sgalal/Guangyun)"
   ]
  },
  {
   "cell_type": "code",
   "execution_count": null,
   "metadata": {},
   "outputs": [],
   "source": [
    "from collections import defaultdict"
   ]
  },
  {
   "cell_type": "code",
   "execution_count": null,
   "metadata": {},
   "outputs": [],
   "source": [
    "import matplotlib.pyplot as plt"
   ]
  },
  {
   "cell_type": "code",
   "execution_count": null,
   "metadata": {},
   "outputs": [],
   "source": [
    "import networkx as nx"
   ]
  },
  {
   "cell_type": "code",
   "execution_count": null,
   "metadata": {},
   "outputs": [],
   "source": [
    "import sqlite3"
   ]
  },
  {
   "cell_type": "code",
   "execution_count": null,
   "metadata": {},
   "outputs": [],
   "source": [
    "conn = sqlite3.connect('../../data.sqlite3')"
   ]
  },
  {
   "cell_type": "code",
   "execution_count": null,
   "metadata": {},
   "outputs": [],
   "source": [
    "cur = conn.cursor()"
   ]
  },
  {
   "cell_type": "markdown",
   "metadata": {},
   "source": [
    "## 反切上字"
   ]
  },
  {
   "cell_type": "code",
   "execution_count": null,
   "metadata": {},
   "outputs": [],
   "source": [
    "G = nx.Graph()"
   ]
  },
  {
   "cell_type": "code",
   "execution_count": null,
   "metadata": {},
   "outputs": [],
   "source": [
    "G.add_weighted_edges_from(cur.execute('''SELECT 廣韻小韻.上字 AS 上字,\n",
    "廣韻字頭全.上字 AS 上字的上字,\n",
    "count(*) AS 權重\n",
    "FROM 廣韻小韻 INNER JOIN 廣韻字頭全\n",
    "ON 廣韻小韻.上字 = 廣韻字頭全.字頭\n",
    "WHERE 廣韻小韻.上字 <> 廣韻字頭全.上字\n",
    "GROUP BY 廣韻小韻.上字, 廣韻字頭全.上字\n",
    "ORDER BY 廣韻小韻.小韻號;'''))"
   ]
  },
  {
   "cell_type": "code",
   "execution_count": null,
   "metadata": {},
   "outputs": [],
   "source": [
    "for i in sorted(nx.connected_components(G)):\n",
    "    print(''.join(i))"
   ]
  },
  {
   "cell_type": "markdown",
   "metadata": {},
   "source": [
    "# 反切下字"
   ]
  },
  {
   "cell_type": "code",
   "execution_count": null,
   "metadata": {},
   "outputs": [],
   "source": [
    "plt.rcParams['figure.figsize'] = [8, 6]"
   ]
  },
  {
   "cell_type": "code",
   "execution_count": null,
   "metadata": {},
   "outputs": [],
   "source": [
    "def plot(G):\n",
    "    pos = nx.spring_layout(G, k=4, iterations=100, seed=42)\n",
    "    labels = nx.get_edge_attributes(G, 'weight')\n",
    "    nx.draw_networkx_nodes(G, pos, node_size=1000, edgecolors='black', node_color='w')\n",
    "    nx.draw_networkx_edges(G, pos)\n",
    "    nx.draw_networkx_labels(G, pos, font_size=18, font_family='Source Han Serif K')\n",
    "    nx.draw_networkx_edge_labels(G, pos, font_size=12, edge_labels=labels, font_family='Times New Roman')\n",
    "    plt.show()"
   ]
  },
  {
   "cell_type": "code",
   "execution_count": null,
   "metadata": {},
   "outputs": [],
   "source": [
    "d = defaultdict(list)"
   ]
  },
  {
   "cell_type": "code",
   "execution_count": null,
   "metadata": {},
   "outputs": [],
   "source": [
    "for 韻, 下字, 下字的下字, 權重 in cur.execute(f'''SELECT substr(廣韻小韻.韻, 1, 1),\n",
    "廣韻小韻.下字 AS 下字,\n",
    "廣韻字頭全.下字 AS 下字的下字,\n",
    "count(*) AS 權重\n",
    "FROM 廣韻小韻 INNER JOIN 廣韻字頭全\n",
    "ON 廣韻小韻.下字 = 廣韻字頭全.字頭\n",
    "WHERE 廣韻小韻.下字 <> 廣韻字頭全.下字\n",
    "AND substr(廣韻小韻.韻, 1, 1) = substr(廣韻字頭全.韻, 1, 1)\n",
    "GROUP BY 廣韻小韻.下字, 廣韻字頭全.下字\n",
    "ORDER BY 廣韻小韻.小韻號;'''):\n",
    "    d[韻].append((下字, 下字的下字, 權重))"
   ]
  },
  {
   "cell_type": "code",
   "execution_count": null,
   "metadata": {
    "scrolled": false
   },
   "outputs": [],
   "source": [
    "for 韻 in list(d):\n",
    "    print(韻)\n",
    "    G = nx.Graph()\n",
    "    G.add_weighted_edges_from(d[韻])\n",
    "    plot(G)"
   ]
  },
  {
   "cell_type": "code",
   "execution_count": null,
   "metadata": {},
   "outputs": [],
   "source": [
    "conn.close()"
   ]
  }
 ],
 "metadata": {
  "kernelspec": {
   "display_name": "Python 3",
   "language": "python",
   "name": "python3"
  },
  "language_info": {
   "codemirror_mode": {
    "name": "ipython",
    "version": 3
   },
   "file_extension": ".py",
   "mimetype": "text/x-python",
   "name": "python",
   "nbconvert_exporter": "python",
   "pygments_lexer": "ipython3",
   "version": "3.7.1"
  }
 },
 "nbformat": 4,
 "nbformat_minor": 2
}
